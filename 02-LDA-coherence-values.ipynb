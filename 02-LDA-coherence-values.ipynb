{
 "cells": [
  {
   "cell_type": "code",
   "execution_count": 55,
   "metadata": {},
   "outputs": [
    {
     "name": "stderr",
     "output_type": "stream",
     "text": [
      "[nltk_data] Downloading package wordnet to /home/ubuntu/nltk_data...\n",
      "[nltk_data]   Package wordnet is already up-to-date!\n"
     ]
    }
   ],
   "source": [
    "import spacy\n",
    "nlp = spacy.load('en')\n",
    "import nltk\n",
    "from nltk.corpus import stopwords\n",
    "import pandas as pd\n",
    "import numpy as np\n",
    "import pickle\n",
    "\n",
    "import re\n",
    "\n",
    "import nltk\n",
    "import re\n",
    "import string\n",
    "from nltk.corpus import stopwords\n",
    "\n",
    "nltk.download('wordnet')\n",
    "from nltk.stem import WordNetLemmatizer\n",
    "lemmatizer = nltk.stem.WordNetLemmatizer()\n",
    "w_tokenizer = nltk.tokenize.WhitespaceTokenizer()\n",
    "\n",
    "import gensim\n",
    "import pyLDAvis\n",
    "from pyLDAvis import gensim as gensimvis\n",
    "import spacy\n",
    "\n",
    "from gensim.models.coherencemodel import CoherenceModel\n",
    "from gensim.models.ldamodel import LdaModel\n",
    "from gensim.corpora.dictionary import Dictionary\n",
    "from numpy import array\n",
    "\n",
    "import logging\n",
    "from tqdm import tqdm\n",
    "from pprint import pprint"
   ]
  },
  {
   "cell_type": "code",
   "execution_count": 60,
   "metadata": {},
   "outputs": [
    {
     "data": {
      "text/plain": [
       "gensim.corpora.dictionary.Dictionary"
      ]
     },
     "execution_count": 60,
     "metadata": {},
     "output_type": "execute_result"
    }
   ],
   "source": [
    "Dictionary"
   ]
  },
  {
   "cell_type": "code",
   "execution_count": 41,
   "metadata": {},
   "outputs": [],
   "source": [
    "sentences = pd.read_pickle('za_sentences.pkl')\n",
    "sentences['cleaned'] = [w_tokenizer.tokenize(X.strip('][').replace(',','')) for X in sentences['cleaned']]"
   ]
  },
  {
   "cell_type": "code",
   "execution_count": 42,
   "metadata": {},
   "outputs": [
    {
     "data": {
      "text/plain": [
       "2825355"
      ]
     },
     "execution_count": 42,
     "metadata": {},
     "output_type": "execute_result"
    }
   ],
   "source": [
    "len(sentences)"
   ]
  },
  {
   "cell_type": "code",
   "execution_count": 43,
   "metadata": {},
   "outputs": [
    {
     "data": {
      "text/html": [
       "<div>\n",
       "<style scoped>\n",
       "    .dataframe tbody tr th:only-of-type {\n",
       "        vertical-align: middle;\n",
       "    }\n",
       "\n",
       "    .dataframe tbody tr th {\n",
       "        vertical-align: top;\n",
       "    }\n",
       "\n",
       "    .dataframe thead th {\n",
       "        text-align: right;\n",
       "    }\n",
       "</style>\n",
       "<table border=\"1\" class=\"dataframe\">\n",
       "  <thead>\n",
       "    <tr style=\"text-align: right;\">\n",
       "      <th></th>\n",
       "      <th>review_index</th>\n",
       "      <th>sentence_index</th>\n",
       "      <th>sentence</th>\n",
       "      <th>cleaned</th>\n",
       "    </tr>\n",
       "  </thead>\n",
       "  <tbody>\n",
       "    <tr>\n",
       "      <th>0</th>\n",
       "      <td>5</td>\n",
       "      <td>0</td>\n",
       "      <td>I'll be the first to admit that I was not exci...</td>\n",
       "      <td>[admit, tavolta]</td>\n",
       "    </tr>\n",
       "    <tr>\n",
       "      <th>1</th>\n",
       "      <td>5</td>\n",
       "      <td>1</td>\n",
       "      <td>Being a food snob, when a group of friends su...</td>\n",
       "      <td>[food, snob, group, friend, dinner, menu]</td>\n",
       "    </tr>\n",
       "    <tr>\n",
       "      <th>2</th>\n",
       "      <td>5</td>\n",
       "      <td>2</td>\n",
       "      <td>Im also not big on ordering pasta when I go out</td>\n",
       "      <td>[ordering, pasta]</td>\n",
       "    </tr>\n",
       "    <tr>\n",
       "      <th>3</th>\n",
       "      <td>5</td>\n",
       "      <td>3</td>\n",
       "      <td>Alas, I was outnumbered</td>\n",
       "      <td>[]</td>\n",
       "    </tr>\n",
       "    <tr>\n",
       "      <th>4</th>\n",
       "      <td>5</td>\n",
       "      <td>4</td>\n",
       "      <td>Thank goodness! I ordered the sea bass special</td>\n",
       "      <td>[goodness, sea, bass]</td>\n",
       "    </tr>\n",
       "  </tbody>\n",
       "</table>\n",
       "</div>"
      ],
      "text/plain": [
       "   review_index  sentence_index  \\\n",
       "0             5               0   \n",
       "1             5               1   \n",
       "2             5               2   \n",
       "3             5               3   \n",
       "4             5               4   \n",
       "\n",
       "                                            sentence  \\\n",
       "0  I'll be the first to admit that I was not exci...   \n",
       "1   Being a food snob, when a group of friends su...   \n",
       "2    Im also not big on ordering pasta when I go out   \n",
       "3                            Alas, I was outnumbered   \n",
       "4     Thank goodness! I ordered the sea bass special   \n",
       "\n",
       "                                     cleaned  \n",
       "0                           [admit, tavolta]  \n",
       "1  [food, snob, group, friend, dinner, menu]  \n",
       "2                          [ordering, pasta]  \n",
       "3                                         []  \n",
       "4                      [goodness, sea, bass]  "
      ]
     },
     "execution_count": 43,
     "metadata": {},
     "output_type": "execute_result"
    }
   ],
   "source": [
    "sentences.head()"
   ]
  },
  {
   "cell_type": "code",
   "execution_count": 44,
   "metadata": {},
   "outputs": [],
   "source": [
    "reviews = pd.DataFrame(sentences.review_index.unique()).sample(20000)"
   ]
  },
  {
   "cell_type": "code",
   "execution_count": 45,
   "metadata": {},
   "outputs": [],
   "source": [
    "reviews = reviews[0].tolist()\n"
   ]
  },
  {
   "cell_type": "code",
   "execution_count": 46,
   "metadata": {},
   "outputs": [
    {
     "data": {
      "text/plain": [
       "[150687, 6124959, 3288893, 3590386, 5251736]"
      ]
     },
     "execution_count": 46,
     "metadata": {},
     "output_type": "execute_result"
    }
   ],
   "source": [
    "reviews[0:5]"
   ]
  },
  {
   "cell_type": "code",
   "execution_count": 47,
   "metadata": {},
   "outputs": [],
   "source": [
    "df = sentences[sentences['review_index'].isin(reviews)]"
   ]
  },
  {
   "cell_type": "code",
   "execution_count": 48,
   "metadata": {},
   "outputs": [
    {
     "data": {
      "text/plain": [
       "141434"
      ]
     },
     "execution_count": 48,
     "metadata": {},
     "output_type": "execute_result"
    }
   ],
   "source": [
    "len(df)"
   ]
  },
  {
   "cell_type": "code",
   "execution_count": 49,
   "metadata": {},
   "outputs": [],
   "source": [
    "def get_topics_lda(tokenized_text, num_topics):\n",
    "    id2word = gensim.corpora.Dictionary(tokenized_text)\n",
    "    corpus = [id2word.doc2bow(t) for t in tokenized_text]\n",
    "    lda_model = gensim.models.ldamulticore.LdaMulticore(corpus=corpus,\n",
    "                                           id2word=id2word,\n",
    "                                           num_topics=num_topics, \n",
    "                                           random_state=100,\n",
    "                                           chunksize=100,\n",
    "                                           passes=128,\n",
    "                                           per_word_topics=True)\n",
    "    return(lda_model)"
   ]
  },
  {
   "cell_type": "code",
   "execution_count": 50,
   "metadata": {},
   "outputs": [],
   "source": [
    "lda_model = get_topics_lda(df.cleaned, 5)"
   ]
  },
  {
   "cell_type": "code",
   "execution_count": 51,
   "metadata": {},
   "outputs": [
    {
     "data": {
      "text/plain": [
       "[(0,\n",
       "  '0.063*\"order\" + 0.040*\"salad\" + 0.030*\"menu\" + 0.030*\"staff\" + 0.029*\"minute\" + 0.021*\"pasta\" + 0.019*\"flavor\" + 0.019*\"chicken\" + 0.018*\"time\" + 0.018*\"dish\" + 0.018*\"server\" + 0.015*\"sandwich\" + 0.012*\"drink\" + 0.012*\"portion\" + 0.011*\"experience\" + 0.011*\"appetizer\" + 0.010*\"dessert\" + 0.009*\"fry\" + 0.009*\"table\" + 0.008*\"item\"'),\n",
       " (1,\n",
       "  '0.128*\"place\" + 0.049*\"time\" + 0.033*\"restaurant\" + 0.029*\"love\" + 0.026*\"people\" + 0.024*\"food\" + 0.022*\"friend\" + 0.022*\"beer\" + 0.021*\"table\" + 0.018*\"family\" + 0.014*\"atmosphere\" + 0.014*\"area\" + 0.011*\"meal\" + 0.010*\"selection\" + 0.010*\"business\" + 0.009*\"lot\" + 0.009*\"choice\" + 0.008*\"check\" + 0.008*\"town\" + 0.007*\"group\"'),\n",
       " (2,\n",
       "  '0.105*\"service\" + 0.033*\"food\" + 0.028*\"thing\" + 0.028*\"customer\" + 0.028*\"bar\" + 0.019*\"pie\" + 0.017*\"guy\" + 0.016*\"owner\" + 0.015*\"year\" + 0.015*\"option\" + 0.014*\"husband\" + 0.012*\"restaurant\" + 0.012*\"breakfast\" + 0.012*\"vega\" + 0.011*\"spot\" + 0.010*\"egg\" + 0.010*\"line\" + 0.010*\"phone\" + 0.010*\"door\" + 0.010*\"work\"'),\n",
       " (3,\n",
       "  '0.263*\"pizza\" + 0.041*\"cheese\" + 0.038*\"sauce\" + 0.032*\"crust\" + 0.024*\"wing\" + 0.021*\"slice\" + 0.020*\"location\" + 0.012*\"bread\" + 0.011*\"topping\" + 0.011*\"way\" + 0.011*\"pepperoni\" + 0.011*\"chicken\" + 0.010*\"sausage\" + 0.009*\"tomato\" + 0.008*\"mushroom\" + 0.007*\"pepper\" + 0.007*\"taste\" + 0.007*\"dough\" + 0.006*\"home\" + 0.006*\"yelp\"'),\n",
       " (4,\n",
       "  '0.084*\"food\" + 0.029*\"night\" + 0.029*\"price\" + 0.027*\"time\" + 0.024*\"lunch\" + 0.024*\"hour\" + 0.023*\"day\" + 0.021*\"dinner\" + 0.021*\"star\" + 0.019*\"delivery\" + 0.015*\"style\" + 0.014*\"review\" + 0.012*\"quality\" + 0.011*\"visit\" + 0.010*\"kid\" + 0.010*\"taste\" + 0.009*\"bit\" + 0.009*\"crispy\" + 0.009*\"wine\" + 0.009*\"today\"')]"
      ]
     },
     "execution_count": 51,
     "metadata": {},
     "output_type": "execute_result"
    }
   ],
   "source": [
    "lda_model.print_topics(num_words=20)"
   ]
  },
  {
   "cell_type": "code",
   "execution_count": 53,
   "metadata": {},
   "outputs": [],
   "source": [
    "def compute_coherence_values(dictionary, corpus, texts, limit, start=2, step=3):\n",
    "    \"\"\"\n",
    "    Compute c_v coherence for various number of topics\n",
    "\n",
    "    Parameters:\n",
    "    ----------\n",
    "    dictionary : Gensim dictionary\n",
    "    corpus : Gensim corpus\n",
    "    texts : List of input texts\n",
    "    limit : Max num of topics\n",
    "\n",
    "    Returns:\n",
    "    -------\n",
    "    model_list : List of LDA topic models\n",
    "    coherence_values : Coherence values corresponding to the LDA model with respective number of topics\n",
    "    \"\"\"\n",
    "    coherence_values = []\n",
    "    model_list = []\n",
    "    for num_topics in range(start, limit, step):\n",
    "        model=LdaModel(corpus=corpus, id2word=dictionary, num_topics=num_topics)\n",
    "        model_list.append(model)\n",
    "        coherencemodel = CoherenceModel(model=model, texts=texts, dictionary=dictionary, coherence='c_v')\n",
    "        coherence_values.append(coherencemodel.get_coherence())\n",
    "\n",
    "    return (model_list, coherence_values)"
   ]
  },
  {
   "cell_type": "code",
   "execution_count": 61,
   "metadata": {},
   "outputs": [],
   "source": [
    "coherencemodel = CoherenceModel(model=lda_model, texts=df.cleaned, dictionary=Dictionary, coherence='c_v')"
   ]
  },
  {
   "cell_type": "code",
   "execution_count": 63,
   "metadata": {},
   "outputs": [
    {
     "data": {
      "text/plain": [
       "<gensim.models.coherencemodel.CoherenceModel at 0x7fbe3b934a58>"
      ]
     },
     "execution_count": 63,
     "metadata": {},
     "output_type": "execute_result"
    }
   ],
   "source": [
    "coherencemodel"
   ]
  },
  {
   "cell_type": "code",
   "execution_count": 81,
   "metadata": {},
   "outputs": [],
   "source": [
    "coherence_values = []\n",
    "model_list = []\n",
    "id2word = gensim.corpora.Dictionary(df.cleaned)"
   ]
  },
  {
   "cell_type": "code",
   "execution_count": 82,
   "metadata": {},
   "outputs": [
    {
     "data": {
      "text/plain": [
       "[0.19594925005972924,\n",
       " 0.11263885098272372,\n",
       " 0.13882584075397553,\n",
       " 0.22192219407642413,\n",
       " 0.2372378530452902,\n",
       " 0.23833297781762572,\n",
       " 0.2535723894548901,\n",
       " 0.24938702022014647,\n",
       " 0.23269692668371592,\n",
       " 0.22926538602296972,\n",
       " 0.24429027841713882,\n",
       " 0.25838640918230515,\n",
       " 0.2561940514882575,\n",
       " 0.27727996488363243]"
      ]
     },
     "execution_count": 82,
     "metadata": {},
     "output_type": "execute_result"
    }
   ],
   "source": [
    "limit=15; start=1; step=1;\n",
    "\n",
    "for num_topics in range(start, limit, step):\n",
    "\n",
    "    #model=LdaModel(corpus=[id2word.doc2bow(t) for t in df.cleaned], \n",
    "    #               id2word=Dictionary, \n",
    "    #               num_topics=5)\n",
    "    model = get_topics_lda(df.cleaned, num_topics)\n",
    "    model_list.append(model)\n",
    "\n",
    "    coherencemodel = CoherenceModel(model=model, texts=df.cleaned, dictionary=id2word, coherence='c_v')\n",
    "\n",
    "    coherence_values.append(coherencemodel.get_coherence())\n",
    "\n",
    "coherence_values"
   ]
  },
  {
   "cell_type": "code",
   "execution_count": 91,
   "metadata": {},
   "outputs": [
    {
     "data": {
      "image/png": "[encoded data removed]",
      "text/plain": [
       "<Figure size 432x288 with 1 Axes>"
      ]
     },
     "metadata": {},
     "output_type": "display_data"
    }
   ],
   "source": [
    "import matplotlib.pyplot as plt\n",
    "limit=len(coherence_values); start=1; step=1;\n",
    "x = range(start, limit+1, step)\n",
    "plt.plot(x, coherence_values, color='red', linewidth=3)\n",
    "plt.xlabel(\"Num Topics\")\n",
    "plt.ylabel(\"Coherence score\")\n",
    "#plt.legend((\"coherence_values\"), loc='best')\n",
    "plt.savefig('coherence.png', dpi=100)\n",
    "plt.show()"
   ]
  },
  {
   "cell_type": "code",
   "execution_count": 80,
   "metadata": {},
   "outputs": [
    {
     "data": {
      "text/plain": [
       "[]"
      ]
     },
     "execution_count": 80,
     "metadata": {},
     "output_type": "execute_result"
    }
   ],
   "source": [
    "model_list"
   ]
  },
  {
   "cell_type": "code",
   "execution_count": 77,
   "metadata": {},
   "outputs": [
    {
     "data": {
      "image/png": "[encoded data removed]",
      "text/plain": [
       "<Figure size 432x288 with 1 Axes>"
      ]
     },
     "metadata": {},
     "output_type": "display_data"
    }
   ],
   "source": [
    "import matplotlib.pyplot as plt\n",
    "limit=len(coherence_values); start=1; step=1;\n",
    "x = range(start, limit+1, step)\n",
    "plt.plot(x, coherence_values)\n",
    "plt.xlabel(\"Num Topics\")\n",
    "plt.ylabel(\"Coherence score\")\n",
    "plt.legend((\"coherence_values\"), loc='best')\n",
    "plt.show()"
   ]
  },
  {
   "cell_type": "code",
   "execution_count": null,
   "metadata": {},
   "outputs": [],
   "source": []
  }
 ],
 "metadata": {
  "kernelspec": {
   "display_name": "Python 3",
   "language": "python",
   "name": "python3"
  },
  "language_info": {
   "codemirror_mode": {
    "name": "ipython",
    "version": 3
   },
   "file_extension": ".py",
   "mimetype": "text/x-python",
   "name": "python",
   "nbconvert_exporter": "python",
   "pygments_lexer": "ipython3",
   "version": "3.6.5"
  }
 },
 "nbformat": 4,
 "nbformat_minor": 2
}
